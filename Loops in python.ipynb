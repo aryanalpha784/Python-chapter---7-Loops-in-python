{
 "cells": [
  {
   "cell_type": "markdown",
   "id": "534d40c4-01fe-444f-a79c-407ec66684f3",
   "metadata": {},
   "source": [
    "# 1.Write a program to print multiplication of table of a given number using for loop. "
   ]
  },
  {
   "cell_type": "code",
   "execution_count": 39,
   "id": "8d467663-ded5-43ed-8ab2-ba9ea15df890",
   "metadata": {},
   "outputs": [
    {
     "name": "stdin",
     "output_type": "stream",
     "text": [
      "Enter the number:  5\n"
     ]
    },
    {
     "name": "stdout",
     "output_type": "stream",
     "text": [
      "5 x 1 = 5\n",
      "5 x 2 = 10\n",
      "5 x 3 = 15\n",
      "5 x 4 = 20\n",
      "5 x 5 = 25\n",
      "5 x 6 = 30\n",
      "5 x 7 = 35\n",
      "5 x 8 = 40\n",
      "5 x 9 = 45\n",
      "5 x 10 = 50\n",
      "5 x 1 = 5\n",
      "5 x 2 = 10\n",
      "5 x 3 = 15\n",
      "5 x 4 = 20\n",
      "5 x 5 = 25\n",
      "5 x 6 = 30\n",
      "5 x 7 = 35\n",
      "5 x 8 = 40\n",
      "5 x 9 = 45\n",
      "5 x 10 = 50\n"
     ]
    }
   ],
   "source": [
    "num = int(input(\"Enter the number: \"))\n",
    "\n",
    "for i in range(1,11):\n",
    "    print(str(num) + \" x \" + str(i) + \" = \" + str(i * num))\n",
    "\n",
    "# or another oprion is f string\n",
    "\n",
    "for i in range(1,11):\n",
    "    print(f\"{num} x {i} = {num*i}\")"
   ]
  },
  {
   "cell_type": "markdown",
   "id": "0d56b39f-20e5-464f-bc64-53aa099998de",
   "metadata": {},
   "source": [
    "# 2.Write a program tp greet all the person names stored in a list l1 and which starts with S\n",
    "\n",
    "                  l1 = [\"Aryan\", \"Sohan\", \"Sachin\", \"Rahul\"]"
   ]
  },
  {
   "cell_type": "code",
   "execution_count": 46,
   "id": "6130dd47-5230-4115-8311-519270f7128c",
   "metadata": {},
   "outputs": [
    {
     "name": "stdout",
     "output_type": "stream",
     "text": [
      "Hello Sohan\n",
      "Hello Sachin\n"
     ]
    }
   ],
   "source": [
    "l1 = [\"Aryan\", \"Sohan\", \"Sachin\", \"Rahul\"]\n",
    "\n",
    "for name in l1:\n",
    "    if name.startswith ('S'):\n",
    "        print(\"Hello \" + name)"
   ]
  },
  {
   "cell_type": "markdown",
   "id": "57534fad-69f9-444a-8ae5-f4dc969ac9de",
   "metadata": {},
   "source": [
    "# 3.Attempt problem 1 using while loop."
   ]
  },
  {
   "cell_type": "code",
   "execution_count": 61,
   "id": "cbe92c7a-c09d-4723-8121-1029fc60585f",
   "metadata": {},
   "outputs": [
    {
     "name": "stdin",
     "output_type": "stream",
     "text": [
      "Enter the number:  5\n"
     ]
    },
    {
     "name": "stdout",
     "output_type": "stream",
     "text": [
      "5 x 1 = 5\n",
      "5 x 2 = 10\n",
      "5 x 3 = 15\n",
      "5 x 4 = 20\n",
      "5 x 5 = 25\n",
      "5 x 6 = 30\n",
      "5 x 7 = 35\n",
      "5 x 8 = 40\n",
      "5 x 9 = 45\n",
      "5 x 10 = 50\n"
     ]
    }
   ],
   "source": [
    "num = int(input(\"Enter the number: \"))\n",
    "\n",
    "i = 1\n",
    "while i <= 10:\n",
    "    print(f\"{num} x {i} = {num * i}\")\n",
    "    i = i + 1"
   ]
  },
  {
   "cell_type": "markdown",
   "id": "9c83bd1d-5511-4098-90a8-98b2c4905273",
   "metadata": {},
   "source": [
    "# 4.Write a program to find whether a given number is prime or not."
   ]
  },
  {
   "cell_type": "code",
   "execution_count": 66,
   "id": "36724200-92a7-4cc1-8436-32381addd352",
   "metadata": {},
   "outputs": [
    {
     "name": "stdin",
     "output_type": "stream",
     "text": [
      "Enter the number:  5\n"
     ]
    },
    {
     "name": "stdout",
     "output_type": "stream",
     "text": [
      "this number is prime number\n"
     ]
    }
   ],
   "source": [
    "num = int(input(\"Enter the number: \"))\n",
    "prime = True\n",
    "\n",
    "for i in range(2, num):\n",
    "    if (num%i == 0):\n",
    "        prime = False\n",
    "        break\n",
    "\n",
    "if prime:\n",
    "    print(\"this number is prime number\")\n",
    "\n",
    "else:\n",
    "    print(\"this number is not a prime number\")"
   ]
  },
  {
   "cell_type": "markdown",
   "id": "9a3254d0-adbd-4c86-bc43-1026a355d1ee",
   "metadata": {},
   "source": [
    "# 5.Write a program to find the sum of first n natural numbers using for loop."
   ]
  },
  {
   "cell_type": "code",
   "execution_count": 72,
   "id": "30a27187-14e2-40a6-ae30-8a33b1b8364a",
   "metadata": {},
   "outputs": [
    {
     "name": "stdin",
     "output_type": "stream",
     "text": [
      "Enter the number:  5\n"
     ]
    },
    {
     "name": "stdout",
     "output_type": "stream",
     "text": [
      "The factorial of 5 is 120\n"
     ]
    }
   ],
   "source": [
    "num = int(input(\"Enter the number: \"))\n",
    "\n",
    "factorial = 1\n",
    "for i in range(1, num + 1):\n",
    "    factorial = factorial * i\n",
    "\n",
    "print(f\"The factorial of {num} is {factorial}\")"
   ]
  },
  {
   "cell_type": "markdown",
   "id": "f7b1819c-9502-45d1-b161-f88111e411af",
   "metadata": {},
   "source": [
    "# 6.Write a prorgram to calculate the factorial of a given number using while loop."
   ]
  },
  {
   "cell_type": "code",
   "execution_count": 89,
   "id": "0e551f96-4c79-422e-8692-605edaba98c5",
   "metadata": {},
   "outputs": [
    {
     "name": "stdin",
     "output_type": "stream",
     "text": [
      "Enter the number:  5\n"
     ]
    },
    {
     "name": "stdout",
     "output_type": "stream",
     "text": [
      "The factorial of 5 is 120\n"
     ]
    }
   ],
   "source": [
    "num = int(input(\"Enter the number: \"))\n",
    "\n",
    "factorial = 1\n",
    "i = 1\n",
    "\n",
    "while i <= num:\n",
    "    factorial = factorial * i\n",
    "    i = i + 1\n",
    "\n",
    "print(f\"The factorial of {num} is {factorial}\")\n"
   ]
  },
  {
   "cell_type": "markdown",
   "id": "8db72768-2877-420e-9816-4f99741421aa",
   "metadata": {},
   "source": [
    "# 7.Write a program to print the following star pattern:\n",
    "\n",
    "                      *\n",
    "                    * * *\n",
    "                  * * * * *\n",
    "# for n = 3"
   ]
  },
  {
   "cell_type": "code",
   "execution_count": 97,
   "id": "0bc31ee1-47b8-4c81-8210-2e5d87fb1fcc",
   "metadata": {},
   "outputs": [
    {
     "name": "stdin",
     "output_type": "stream",
     "text": [
      "Enter the number of rows:  3\n"
     ]
    },
    {
     "name": "stdout",
     "output_type": "stream",
     "text": [
      "    * \n",
      "  * * * \n",
      "* * * * * \n"
     ]
    }
   ],
   "source": [
    "n = int(input(\"Enter the number of rows: \"))\n",
    "\n",
    "for i in range(n):\n",
    "    for j in range(n - i - 1):\n",
    "        print(\" \", end=\" \")\n",
    "\n",
    "    for k in range(2 * i + 1):\n",
    "        print(\"*\", end=\" \")\n",
    "\n",
    "    print()"
   ]
  },
  {
   "cell_type": "markdown",
   "id": "23152371-64b0-420c-8859-0f65031c0216",
   "metadata": {},
   "source": [
    "# 8.Write a program to print the following star pattern:\n",
    "\n",
    "            *\n",
    "            **\n",
    "            ***\n",
    "# for n = 3"
   ]
  },
  {
   "cell_type": "code",
   "execution_count": 101,
   "id": "95b112b5-98a2-496b-a87f-d092136b2554",
   "metadata": {},
   "outputs": [
    {
     "name": "stdin",
     "output_type": "stream",
     "text": [
      "Enter the number of rows:  3\n"
     ]
    },
    {
     "name": "stdout",
     "output_type": "stream",
     "text": [
      "*\n",
      "**\n",
      "***\n"
     ]
    }
   ],
   "source": [
    "n = int(input(\"Enter the number of rows: \"))\n",
    "\n",
    "for i in range(1, n + 1):\n",
    "    print(\"*\" * i)"
   ]
  },
  {
   "cell_type": "markdown",
   "id": "c79dffc0-c292-4a63-8a9f-f85451dd9dd6",
   "metadata": {},
   "source": [
    "# 9.Write a program to print the following star pattern\n",
    "\n",
    "               * * *\n",
    "               *   *\n",
    "               * * *\n",
    "# for n = 3"
   ]
  },
  {
   "cell_type": "code",
   "execution_count": 106,
   "id": "0aab1dbc-bfb2-4154-a42b-c6af66b3ab64",
   "metadata": {},
   "outputs": [
    {
     "name": "stdin",
     "output_type": "stream",
     "text": [
      "Enter the size of the square pattern:  3\n"
     ]
    },
    {
     "name": "stdout",
     "output_type": "stream",
     "text": [
      "* * * \n",
      "*   * \n",
      "* * * \n"
     ]
    }
   ],
   "source": [
    "n = int(input(\"Enter the size of the square pattern: \"))\n",
    "\n",
    "for i in range(n):\n",
    "    for j in range(n):\n",
    "        if i == 0 or i == n - 1 or j == 0 or j == n - 1:\n",
    "            print(\"*\", end=\" \")\n",
    "        else:\n",
    "            print(\" \", end=\" \")\n",
    "    print()"
   ]
  },
  {
   "cell_type": "markdown",
   "id": "644d755e-8ed1-4420-b557-f58c965f0361",
   "metadata": {},
   "source": [
    "# 10.Write a program to print multiplication table of n using for loop in reversed order."
   ]
  },
  {
   "cell_type": "code",
   "execution_count": 109,
   "id": "01fe1994-c5de-4107-9e45-7e0b9022859b",
   "metadata": {},
   "outputs": [
    {
     "name": "stdin",
     "output_type": "stream",
     "text": [
      "Enter the number for the multiplication table:  5\n"
     ]
    },
    {
     "name": "stdout",
     "output_type": "stream",
     "text": [
      "5 x 10 = 50\n",
      "5 x 9 = 45\n",
      "5 x 8 = 40\n",
      "5 x 7 = 35\n",
      "5 x 6 = 30\n",
      "5 x 5 = 25\n",
      "5 x 4 = 20\n",
      "5 x 3 = 15\n",
      "5 x 2 = 10\n",
      "5 x 1 = 5\n"
     ]
    }
   ],
   "source": [
    "n = int(input(\"Enter the number for the multiplication table: \"))\n",
    "\n",
    "for i in range(10, 0, -1):\n",
    "    print(f\"{n} x {i} = {n * i}\")"
   ]
  },
  {
   "cell_type": "code",
   "execution_count": null,
   "id": "f26658b9-e4e9-40fc-a6fd-f10b9f950bef",
   "metadata": {},
   "outputs": [],
   "source": []
  }
 ],
 "metadata": {
  "kernelspec": {
   "display_name": "Python 3 (ipykernel)",
   "language": "python",
   "name": "python3"
  },
  "language_info": {
   "codemirror_mode": {
    "name": "ipython",
    "version": 3
   },
   "file_extension": ".py",
   "mimetype": "text/x-python",
   "name": "python",
   "nbconvert_exporter": "python",
   "pygments_lexer": "ipython3",
   "version": "3.11.7"
  }
 },
 "nbformat": 4,
 "nbformat_minor": 5
}
